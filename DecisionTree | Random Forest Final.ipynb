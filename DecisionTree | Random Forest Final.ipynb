{
 "cells": [
  {
   "cell_type": "code",
   "execution_count": 59,
   "id": "008a60c5",
   "metadata": {},
   "outputs": [],
   "source": [
    "import numpy as np\n",
    "from collections import Counter\n",
    "%matplotlib inline\n",
    "import matplotlib.pyplot as plt"
   ]
  },
  {
   "cell_type": "markdown",
   "id": "4c338662",
   "metadata": {},
   "source": [
    "# Decision Tree Class"
   ]
  },
  {
   "cell_type": "code",
   "execution_count": 60,
   "id": "f9528f89",
   "metadata": {},
   "outputs": [],
   "source": [
    "\"\"\"\n",
    "Decision Tree class:\n",
    "    Used information gain to split the data to make effecient catogories. \n",
    "    The user can select the depth and the minimum sample split parameter\n",
    "\n",
    "\"\"\"\n",
    "\n",
    "class Node:\n",
    "    def __init__(self, feature=None, threshold=None, left=None, right=None,*,value=None):\n",
    "        self.feature = feature\n",
    "        self.threshold = threshold # Will be used to check which side of the tree should be searched\n",
    "        self.left = left \n",
    "        self.right = right\n",
    "        self.value = value\n",
    "         \n",
    "            \n",
    "    def is_leaf_node(self): # Will be used to check if it is a leaf node\n",
    "        return self.value is not None\n",
    "\n",
    "\n",
    "class DecisionTree:\n",
    "    def __init__(self, min_samples_split = 2, max_depth = 5, random_forest = 0):\n",
    "        self.min_samples_split=min_samples_split # Another Hyper parameter set in order to avoid overfitting \n",
    "        self.max_depth=max_depth # Adding a hyperparameter to prevent the tree from overfitting\n",
    "        self.root=None \n",
    "        self.random_forest = random_forest\n",
    "\n",
    "    def fit(self, X, y): # Fit Function\n",
    "        self.root = self.build_tree(X, y)\n",
    "\n",
    " \n",
    "    def gini_impurity(self, y):# Purity Function to measure how pure a split is\n",
    "        hist = np.bincount(y.astype(int))\n",
    "        #hist = np.bincount(y) # Bincount returns the fraction of each label in a dataset\n",
    "        ps = hist / len(y)\n",
    "        return np.sum([p*(1-p) for p in ps if p>0]) \n",
    "\n",
    "\n",
    "\n",
    "    def get_best_split(self, X, y, number_features): # Function to calculate the best split, using information gain\n",
    "        \n",
    "        split_at_feature = 0\n",
    "        split_at_value = 0\n",
    "        current_gain = 0 # Will be used to compare the IG of different datasets\n",
    "        \n",
    "        for feature_index in number_features:  # For loop iterates through each feature in the dataset\n",
    "            column_feature = X[:, feature_index]   # Extracting the values of the chosen feature\n",
    "            feature_data = np.unique(column_feature)\n",
    "          \n",
    "            for data_value in feature_data: # For loop iterates through each value in the feature\n",
    "                \n",
    "                gain = self.information_gain(y, column_feature, data_value) # Returns the IG if the split was to happen in this feature, around the data_value\n",
    "\n",
    "                if gain > current_gain: #If IG is higher than previous split, it variables is updated and the split occurs at this feature and value \n",
    "                    current_gain = gain\n",
    "                    split_at_feature = feature_index\n",
    "                    split_at_value = data_value\n",
    "                   \n",
    "\n",
    "        return split_at_feature, split_at_value\n",
    "\n",
    "\n",
    "    def information_gain(self, y, column_feature, data_value):\n",
    "       \n",
    "        parent_entropy = self.gini_impurity(y)  # Parent entropy, getting the impurity of the original(before split) dataset\n",
    "\n",
    "        left_index, right_index = self.split(column_feature, data_value) # Creating a split in the column feature using the value in the column, recieved from get_best_split \n",
    "        if len(left_index) == 0 or len(right_index) == 0: \n",
    "            return 0\n",
    "        \n",
    "        # Calculate the impurity of the potential splits\n",
    "        \n",
    "        number_samples = len(y) # Getting the total number of samples in the potential split\n",
    "        samples_left = len(left_index) # Left child\n",
    "        samples_right=  len(right_index) # Right child\n",
    "        gini_left = self.gini_impurity(y[left_index]) \n",
    "        gini_right = self.gini_impurity(y[right_index]) \n",
    "        \n",
    "\n",
    "        child_purity = (samples_left/number_samples) * gini_left + (samples_right/number_samples) * gini_right\n",
    "\n",
    "        # Calculating the Info Gain \n",
    "        information_gain = parent_entropy - child_purity\n",
    "        return information_gain\n",
    "\n",
    "    def split(self, column_feature, data_value):\n",
    "        #Creating potential children\n",
    "        left_child = np.argwhere(column_feature <= data_value).flatten()\n",
    "        right_child = np.argwhere(column_feature > data_value).flatten()\n",
    "        return left_child, right_child\n",
    "    \n",
    "        \n",
    "    \n",
    "    def build_tree(self, X, y, current_depth=0):\n",
    "        number_samples,number_features = X.shape # shape() Returns (no.samples, no.features)\n",
    "        number_labels = len(np.unique(y)) # To be used as a stopping condition for the tree\n",
    "\n",
    "        \n",
    "        if (current_depth >= self.max_depth or number_labels == 1 or number_samples < self.min_samples_split): # Checking the hyperparameters set, if the tree has exceding the hyper-parameters or not\n",
    "            leaf_value = self.most_common_label(y) # Gets the most common label\n",
    "            return Node(value=leaf_value)\n",
    "\n",
    "        # Getting the best split using info gain\n",
    "        if self.random_forest==0:\n",
    "            number_feat = np.random.choice(number_features, number_features, replace=False) \n",
    "            best_feature, best_value = self.get_best_split(X, y, number_feat)\n",
    "        else:\n",
    "            number_feat = np.random.choice(number_features, 4, replace=False) # If random forest is used, random root(no.features) to be sampled at each node\n",
    "            best_feature, best_value = self.get_best_split(X, y, number_feat)\n",
    "            \n",
    "\n",
    "       \n",
    "        # After getting the best feature and value, using it to for a new node in the tree\n",
    "    \n",
    "        left_child, right_child = self.split(X[:, best_feature], best_value)  \n",
    "        left = self.build_tree(X[left_child, :], y[left_child], current_depth+1)\n",
    "        right = self.build_tree(X[right_child, :], y[right_child], current_depth+1)\n",
    "        return Node(best_feature, best_value, left, right)\n",
    "\n",
    "\n",
    "    def predict(self, X): # Predict function which gets the test samples in order to use the tree and make a prediction\n",
    "        y_pred = np.array([self.make_prediction(x, self.root) for x in X])\n",
    "        return y_pred\n",
    "\n",
    "    def make_prediction(self, x, node): # Function will go through the tree and predict the label\n",
    "        if node.is_leaf_node(): # Checks if its the last node, then returns the value, which will be the most common label\n",
    "            return node.value\n",
    "        \n",
    "        feature_value = x[node.feature] # Getting the best feature from the test sample. (Calculated earlier)\n",
    "    \n",
    "        if feature_value <= node.threshold: # Checking which side/split of the tree to search by comparing it to the threshold value calculated earlier\n",
    "            \n",
    "            return self.make_prediction(x, node.left) #If smaller or equal to the threshold (value used to split) than will go through left side\n",
    "        return self.make_prediction(x, node.right) # Else it will go through the right side\n",
    "        \n",
    "    \n",
    "    def most_common_label(self, y): \n",
    "        counter = Counter(y)\n",
    "        if counter:\n",
    "            prediction = counter.most_common(1)[0][0]\n",
    "            return prediction\n",
    "        else:\n",
    "            return None\n",
    "    \n",
    "    def accuracy(self, y_true, y_pred):\n",
    "        #Calculates the accuracy by dividing the correct labels by the total number of labels in test sample\n",
    "        accuracy = np.sum(y_true == y_pred) / len(y_true)\n",
    "        return accuracy"
   ]
  },
  {
   "cell_type": "markdown",
   "id": "9afd2657",
   "metadata": {},
   "source": [
    "# Random Forest Class"
   ]
  },
  {
   "cell_type": "code",
   "execution_count": 61,
   "id": "0e063bfa",
   "metadata": {},
   "outputs": [],
   "source": [
    "\"\"\"\n",
    "Random Forest class:\n",
    "    Generetes bootsrapped samples which are used to make multiple decision\n",
    "    trees depedning on the 'no_trees' paramter selected by the user.\n",
    "\n",
    "\"\"\"\n",
    "\n",
    "import numpy as np\n",
    "from collections import Counter\n",
    "\n",
    "class RandomForest:\n",
    "    \n",
    "    def __init__(self, no_trees=2, max_depth = 3, min_sample_split = 2):\n",
    "        self.no_trees = no_trees\n",
    "        self.max_depth = max_depth\n",
    "        self.min_sample_split = min_sample_split\n",
    "        self.trees = []\n",
    "        \n",
    "        \n",
    "    def fit(self,X,y):\n",
    "        self.trees = []\n",
    "        for i in range (0, self.no_trees):\n",
    "            tree = DecisionTree(self.max_depth, self.min_sample_split, random_forest = 1)\n",
    "            X_bootstrapped, Y_bootstrapped = self.bagging(X,y) \n",
    "            tree.fit(X_bootstrapped, Y_bootstrapped)\n",
    "            self.trees.append(tree)\n",
    "\n",
    "    \n",
    "    def bagging(self, X, y):\n",
    "        bootstrap_idx = np.random.choice(X.shape[0], X.shape[0]) \n",
    "        X_bootstrap = X[bootstrap_idx] \n",
    "        Y_bootstrap = y[bootstrap_idx]\n",
    "        return X_bootstrap, Y_bootstrap\n",
    "    \n",
    "    def predict(self, X):\n",
    "        tree_predictions = np.array([tree.predict(X) for tree in self.trees]) \n",
    "        #print(\"These are the tree predictions: \",tree_predictions)\n",
    "        label_predictions = np.transpose(tree_predictions) \n",
    "        #print(\"These are the labels from each prediction \",label_predictions)\n",
    "\n",
    "        predictions = np.array([self.most_common_label(prediction) for prediction in label_predictions]) \n",
    "        return predictions\n",
    "    \n",
    "        \n",
    "    def most_common_label(self, y): # For classificaiton problem, highest vote function\n",
    "        counter = Counter(y)\n",
    "        prediction = counter.most_common(1)[0][0] \n",
    "        return prediction\n",
    "\n",
    "    def accuracy (self, y_true, y_pred): # Accuracy Function, checks the total no. of correctly predicted labels / total number of lables\n",
    "        accuracy = np.sum(y_true == y_pred) / len(y_true)\n",
    "        return accuracy\n",
    "        "
   ]
  },
  {
   "cell_type": "markdown",
   "id": "91fa79fb",
   "metadata": {},
   "source": [
    "# Cross Validation Function"
   ]
  },
  {
   "cell_type": "code",
   "execution_count": 62,
   "id": "3642891f",
   "metadata": {},
   "outputs": [],
   "source": [
    "\"\"\"\n",
    "Cross Validation function \n",
    "Splits the data into the required folds and returns the accuracy result of each fold\n",
    "\n",
    "\"\"\"\n",
    "\n",
    "def cross_validation(predictor, x, y, folds=10):\n",
    "    number_samples = len(y)\n",
    "    fold_size = int(number_samples / folds) #int is used so we dont get float values, rounds the number down if float\n",
    "    accuracy_scores = []\n",
    "    for i in range(0,folds):\n",
    "        # split data into train and test\n",
    "        start = i * fold_size      # Each iteration will change the start and end point to make the new folds. The next iteration the start will be where the previous ended\n",
    "        end = start + fold_size    \n",
    "        x_test = x[start:end]      # Making a test samples of for each fold\n",
    "        y_test = y[start:end] \n",
    "        \n",
    "        x_train_data = np.concatenate((x[:start], x[end:]), axis=0)  # Joining the rest of the data together, which isn't in the test samples to make training sets\n",
    "        x_train = x_train_data\n",
    "        y_train_data = np.concatenate((y[:start], y[end:]), axis=0)\n",
    "        y_train=y_train_data\n",
    "        \n",
    "        \n",
    "        predictor.fit(x_train, y_train)       # Using the predictor algorithm to make predictions and then store the prediction scores in the accuracy array\n",
    "        y_pred = predictor.predict(x_test)\n",
    "        acc = predictor.accuracy(y_test,y_pred)\n",
    "        accuracy_scores.append(acc)\n",
    "    return np.array(accuracy_scores)"
   ]
  },
  {
   "cell_type": "markdown",
   "id": "893e1906",
   "metadata": {},
   "source": [
    "# Acessing Heart Failure Clinical Records"
   ]
  },
  {
   "cell_type": "code",
   "execution_count": 110,
   "id": "92acefbb",
   "metadata": {},
   "outputs": [],
   "source": [
    "import pandas as pd\n",
    "from sklearn.model_selection import train_test_split\n",
    "import numpy as np\n",
    "\n",
    "\n",
    "\n",
    "data = pd.read_csv('heart_failure_clinical_records_dataset.csv') # Access the data\n",
    "train_set, test_set = train_test_split(data, test_size = 0.2, random_state = 27) # Splits the data randomly\n",
    "\n",
    "#Extracting the Target/Label and feature (y,x) set for training and test sample\n",
    "\n",
    "y_train_data = train_set[\"DEATH_EVENT\"] \n",
    "x_train_data = train_set.drop(\"DEATH_EVENT\", axis=1)\n",
    "y_test_data = test_set['DEATH_EVENT']\n",
    "x_test_data = test_set.drop(\"DEATH_EVENT\", axis=1)\n",
    "    \n",
    "    \n",
    "y_train =  y_train_data.values\n",
    "x_train =  x_train_data.values\n",
    "y_test =  y_test_data.values\n",
    "x_test =  x_test_data.values\n"
   ]
  },
  {
   "cell_type": "markdown",
   "id": "322cbb8c",
   "metadata": {},
   "source": [
    "## Testing DecisionTree on the Heart Failure Clinical Records:\n",
    "#### Parameters can be changed to see how the accuracy score is affected\n"
   ]
  },
  {
   "cell_type": "code",
   "execution_count": 87,
   "id": "562ab55b",
   "metadata": {},
   "outputs": [
    {
     "name": "stdout",
     "output_type": "stream",
     "text": [
      "Accuracy:  0.8666666666666667\n"
     ]
    }
   ],
   "source": [
    "clf = DecisionTree(min_samples_split = 2, max_depth = 1)\n",
    "clf.fit(x_train,y_train)\n",
    "pred = clf.predict(x_test)\n",
    "print(\"Accuracy: \",clf.accuracy(y_test, pred))"
   ]
  },
  {
   "cell_type": "markdown",
   "id": "e65d9b6d",
   "metadata": {},
   "source": [
    "### Graph representation of the effect of maximum depth parameter on the accuracy of decisionTree:"
   ]
  },
  {
   "cell_type": "code",
   "execution_count": 88,
   "id": "7e54e42a",
   "metadata": {},
   "outputs": [
    {
     "data": {
      "image/png": "[encoded data removed]",
      "text/plain": [
       "<Figure size 432x288 with 1 Axes>"
      ]
     },
     "metadata": {
      "needs_background": "light"
     },
     "output_type": "display_data"
    }
   ],
   "source": [
    "test_acc_depth = []  \n",
    "\n",
    "for depth in range(0,63,2):\n",
    "    clf2 = DecisionTree(max_depth=depth)\n",
    "    clf2.fit(x_train,y_train)\n",
    "    prediction = clf2.predict(x_test)\n",
    "    acc=clf2.accuracy(y_test,prediction)\n",
    "    test_acc_depth.append(acc)   \n",
    "    \n",
    "plt.plot([i*1 for i in range(0, 63,2)], test_acc_depth)\n",
    "plt.xlabel(\"Depth\")\n",
    "plt.ylabel(\"Test accuracy\")\n",
    "plt.show()"
   ]
  },
  {
   "cell_type": "markdown",
   "id": "d6828b72",
   "metadata": {},
   "source": [
    "### Checking the accuracy of decisionTree by changing the minimum samples split parameter:"
   ]
  },
  {
   "cell_type": "code",
   "execution_count": 67,
   "id": "c9a6c35b",
   "metadata": {},
   "outputs": [
    {
     "data": {
      "image/png": "[encoded data removed]",
      "text/plain": [
       "<Figure size 432x288 with 1 Axes>"
      ]
     },
     "metadata": {
      "needs_background": "light"
     },
     "output_type": "display_data"
    }
   ],
   "source": [
    "test_acc_depth = []  \n",
    "\n",
    "for split in range(0,299,2):\n",
    "    clf2 = DecisionTree(min_samples_split=split)\n",
    "    clf2.fit(x_train,y_train)\n",
    "    prediction = clf2.predict(x_test)\n",
    "    acc=clf2.accuracy(y_test,prediction)\n",
    "    test_acc_depth.append(acc)   \n",
    "    \n",
    "plt.plot([i*1 for i in range(0, 299,2)], test_acc_depth)\n",
    "plt.xlabel(\"Minimum samples needed before splitting\")\n",
    "plt.ylabel(\"Test accuracy\")\n",
    "plt.show()"
   ]
  },
  {
   "cell_type": "markdown",
   "id": "1f55a3f1",
   "metadata": {},
   "source": [
    "# Testing RandomForest on the Heart Failure Clinical Records: \n",
    "#### Parameters can be changed to see how the accuracy score is affected\n"
   ]
  },
  {
   "cell_type": "code",
   "execution_count": 120,
   "id": "d3f45f1f",
   "metadata": {},
   "outputs": [
    {
     "name": "stdout",
     "output_type": "stream",
     "text": [
      "0.85\n"
     ]
    }
   ],
   "source": [
    "clf = RandomForest(no_trees=29, max_depth = 10, min_sample_split = 2)\n",
    "clf.fit(x_train,y_train)\n",
    "predictions = clf.predict(x_test)\n",
    "acc=clf.accuracy(y_test,predictions)\n",
    "print(acc)"
   ]
  },
  {
   "cell_type": "markdown",
   "id": "f4ff661a",
   "metadata": {},
   "source": [
    "## Graphs on the affects of number of trees and depth of the trees on the accuracy of the RandomForest: "
   ]
  },
  {
   "cell_type": "code",
   "execution_count": 71,
   "id": "1fb1ece1",
   "metadata": {},
   "outputs": [
    {
     "name": "stderr",
     "output_type": "stream",
     "text": [
      "<ipython-input-61-15a4b37f57b1>:51: DeprecationWarning: elementwise comparison failed; this will raise an error in the future.\n",
      "  accuracy = np.sum(y_true == y_pred) / len(y_true)\n"
     ]
    },
    {
     "data": {
      "image/png": "[encoded data removed]",
      "text/plain": [
       "<Figure size 432x288 with 1 Axes>"
      ]
     },
     "metadata": {
      "needs_background": "light"
     },
     "output_type": "display_data"
    },
    {
     "data": {
      "image/png": "[encoded data removed]",
      "text/plain": [
       "<Figure size 432x288 with 1 Axes>"
      ]
     },
     "metadata": {
      "needs_background": "light"
     },
     "output_type": "display_data"
    }
   ],
   "source": [
    "%matplotlib inline\n",
    "import matplotlib.pyplot as plt\n",
    "\n",
    "test_acc_no_trees = []\n",
    "for tree in range(0,63,2):\n",
    "    clf = RandomForest(no_trees=tree)\n",
    "    clf.fit(x_train,y_train)\n",
    "    predictions = clf.predict(x_test)\n",
    "    acc=clf.accuracy(y_test,predictions)\n",
    "    test_acc_no_trees.append(acc)\n",
    "    \n",
    "    \n",
    "test_acc_depth = []  \n",
    "\n",
    "for depth in range(0,63,2):\n",
    "    clf2 = RandomForest(max_depth=depth)\n",
    "    clf2.fit(x_train,y_train)\n",
    "    prediction = clf2.predict(x_test)\n",
    "    acc=clf2.accuracy(y_test,prediction)\n",
    "    test_acc_depth.append(acc)   \n",
    "    \n",
    "plt.plot([i*1 for i in range(0, 63,2)], test_acc_no_trees)\n",
    "plt.xlabel(\"Number of Trees\")\n",
    "plt.ylabel(\"Test accuracy\")\n",
    "plt.show()\n",
    "\n",
    "plt.plot([i*1 for i in range(0, 63,2)], test_acc_depth)\n",
    "plt.xlabel(\"Depth\")\n",
    "plt.ylabel(\"Test accuracy\")\n",
    "plt.show()"
   ]
  },
  {
   "cell_type": "markdown",
   "id": "184d0b24",
   "metadata": {},
   "source": [
    "## Cross Validation testing with the DecisionTree\n",
    "#### Parameters can be adjusted to test different parameters of the algorithm with cross validation or test with different number of folds"
   ]
  },
  {
   "cell_type": "code",
   "execution_count": 91,
   "id": "3525f14d",
   "metadata": {},
   "outputs": [
    {
     "name": "stdout",
     "output_type": "stream",
     "text": [
      "Cross validation scores: [0.89655172 0.82758621 0.48275862 0.86206897 0.82758621 0.79310345\n",
      " 0.68965517 0.86206897 0.96551724 0.93103448]\n",
      "Mean accuracy: 0.8137931034482758\n"
     ]
    }
   ],
   "source": [
    "y = data[\"DEATH_EVENT\"]\n",
    "x = data.drop(\"DEATH_EVENT\", axis=1)\n",
    "y_labels = y.values\n",
    "x_features = x.values\n",
    "\n",
    "\n",
    "######structure of the class: DecisionTree(min_samples_split, max_depth) || if user wishes to test other parameters\n",
    "dt = DecisionTree(max_depth = 1) \n",
    "scores = cross_validation(dt, x_features, y_labels, folds = 10)\n",
    "print(\"Cross validation scores:\", scores)\n",
    "print(\"Mean accuracy:\", np.mean(scores))"
   ]
  },
  {
   "cell_type": "markdown",
   "id": "a0048742",
   "metadata": {},
   "source": [
    "## Cross Validation with RandomForest\n",
    "#### Parameters can be adjusted to test different parameters of the algorithm with cross validation or test with different number of folds"
   ]
  },
  {
   "cell_type": "code",
   "execution_count": 94,
   "id": "f447ca9c",
   "metadata": {},
   "outputs": [
    {
     "name": "stdout",
     "output_type": "stream",
     "text": [
      "Cross validation scores: [0.68965517 0.82758621 0.51724138 0.86206897 0.82758621 0.82758621\n",
      " 0.68965517 0.89655172 0.96551724 0.93103448]\n",
      "Mean accuracy: 0.8034482758620689\n"
     ]
    }
   ],
   "source": [
    "y = data[\"DEATH_EVENT\"]\n",
    "x = data.drop(\"DEATH_EVENT\", axis=1)\n",
    "y_labels = y.values\n",
    "x_features = x.values\n",
    "\n",
    "\n",
    "######structure of the class: RandomForest(no_trees, max_depth, min_sample_split) || if user wishes to test other parameters\n",
    "rf = RandomForest(no_trees = 29, max_depth = 1) # setting the depth of each tree in the random forest to 1 and then testing the algorithm\n",
    "scores = cross_validation(rf, x_features, y_labels, folds = 10)\n",
    "print(\"Cross validation scores:\", scores)\n",
    "print(\"Mean accuracy:\", np.mean(scores))"
   ]
  },
  {
   "cell_type": "markdown",
   "id": "03884423",
   "metadata": {},
   "source": [
    "# "
   ]
  },
  {
   "cell_type": "markdown",
   "id": "2ed57a53",
   "metadata": {},
   "source": [
    "# Below cells perform the calculations on the FETAL HEALTH dataset"
   ]
  },
  {
   "cell_type": "markdown",
   "id": "d1ccf426",
   "metadata": {},
   "source": [
    "## Accessing Dataset 2: Fetal Health DataSet"
   ]
  },
  {
   "cell_type": "code",
   "execution_count": 95,
   "id": "ea93a2b7",
   "metadata": {},
   "outputs": [],
   "source": [
    "data2 = pd.read_csv('fetal_health.csv')\n",
    "train_set, test_set = train_test_split(data2, test_size = 0.2, random_state = 27)\n",
    "y_train_data = train_set[\"fetal_health\"] # Getting the labels for training set which is stored under DEATH_EVENT\n",
    "x_train_data = train_set.drop(\"fetal_health\", axis=1) #Getting the features for training set by removing the label column\n",
    "\n",
    "# Extracting the features and labels for the test samples\n",
    "y_test_data = test_set['fetal_health']\n",
    "x_test_data = test_set.drop(\"fetal_health\", axis=1)\n",
    "  \n",
    "# Extracting the values from the dataset    \n",
    "y_train =  y_train_data.values\n",
    "x_train =  x_train_data.values\n",
    "y_test =  y_test_data.values\n",
    "x_test =  x_test_data.values"
   ]
  },
  {
   "cell_type": "markdown",
   "id": "85387dc9",
   "metadata": {},
   "source": [
    "## Testing the DecisionTree on the second dataset: \n",
    "#### Parameters can be changed to see how the accuracy score is affected\n"
   ]
  },
  {
   "cell_type": "code",
   "execution_count": 97,
   "id": "f57ed485",
   "metadata": {},
   "outputs": [
    {
     "name": "stdout",
     "output_type": "stream",
     "text": [
      "Accuracy:  0.9154929577464789\n"
     ]
    }
   ],
   "source": [
    "clf3 = DecisionTree(min_samples_split = 2, max_depth = 13)\n",
    "clf3.fit(x_train,y_train)\n",
    "prediction = clf3.predict(x_test)\n",
    "acc=clf3.accuracy(y_test,prediction)\n",
    "print(\"Accuracy: \",acc)"
   ]
  },
  {
   "cell_type": "markdown",
   "id": "c70f7ee9",
   "metadata": {},
   "source": [
    "### Graphs on how maximum depth effects the accuracy score for the second dataset:\n"
   ]
  },
  {
   "cell_type": "code",
   "execution_count": 175,
   "id": "b466efff",
   "metadata": {},
   "outputs": [
    {
     "name": "stderr",
     "output_type": "stream",
     "text": [
      "<ipython-input-156-a0692ef81cfd>:140: DeprecationWarning: elementwise comparison failed; this will raise an error in the future.\n",
      "  accuracy = np.sum(y_true == y_pred) / len(y_true)\n"
     ]
    },
    {
     "data": {
      "image/png": "[encoded data removed]",
      "text/plain": [
       "<Figure size 432x288 with 1 Axes>"
      ]
     },
     "metadata": {
      "needs_background": "light"
     },
     "output_type": "display_data"
    }
   ],
   "source": [
    "test_acc_depth = []  \n",
    "\n",
    "for depth in range(0,63,2):\n",
    "    clf3 = DecisionTree(max_depth=depth)\n",
    "    clf3.fit(X_train,y_train)\n",
    "    prediction = clf3.predict(X_test)\n",
    "    acc=clf3.accuracy(y_test,prediction)\n",
    "    test_acc_depth.append(acc)   \n",
    "    \n",
    "plt.plot([i*1 for i in range(0, 63,2)], test_acc_no_trees)\n",
    "plt.xlabel(\"Depth\")\n",
    "plt.ylabel(\"Test accuracy\")\n",
    "plt.show()"
   ]
  },
  {
   "cell_type": "markdown",
   "id": "221ea6a9",
   "metadata": {},
   "source": [
    "## Testing the RandomForest on the second dataset: \n",
    "#### Parameters can be changed to see how the accuracy score is affected\n",
    "\n"
   ]
  },
  {
   "cell_type": "code",
   "execution_count": 80,
   "id": "eac381ae",
   "metadata": {},
   "outputs": [
    {
     "name": "stdout",
     "output_type": "stream",
     "text": [
      "Accuracy:  0.8403755868544601\n"
     ]
    }
   ],
   "source": [
    "clf4 = RandomForest(no_trees=6, max_depth = 16, min_sample_split = 2)\n",
    "clf4.fit(x_train,y_train)\n",
    "pred = clf4.predict(x_test)\n",
    "print(\"Accuracy: \",clf4.accuracy(y_test, pred))"
   ]
  },
  {
   "cell_type": "markdown",
   "id": "b61712c4",
   "metadata": {},
   "source": [
    "###      Graphs on the effects of number of trees and depth of the trees on the accuracy of the RandomForest: "
   ]
  },
  {
   "cell_type": "code",
   "execution_count": 98,
   "id": "d0092776",
   "metadata": {},
   "outputs": [
    {
     "name": "stderr",
     "output_type": "stream",
     "text": [
      "<ipython-input-97-ca5efc0d1029>:44: DeprecationWarning: elementwise comparison failed; this will raise an error in the future.\n",
      "  accuracy = np.sum(y_true == y_pred) / len(y_true)\n"
     ]
    },
    {
     "data": {
      "image/png": "[encoded data removed]",
      "text/plain": [
       "<Figure size 432x288 with 1 Axes>"
      ]
     },
     "metadata": {
      "needs_background": "light"
     },
     "output_type": "display_data"
    },
    {
     "data": {
      "image/png": "[encoded data removed]",
      "text/plain": [
       "<Figure size 432x288 with 1 Axes>"
      ]
     },
     "metadata": {
      "needs_background": "light"
     },
     "output_type": "display_data"
    }
   ],
   "source": [
    "%matplotlib inline\n",
    "import matplotlib.pyplot as plt\n",
    "\n",
    "test_acc_no_trees = []\n",
    "for tree in range(0,200,2):\n",
    "    clf = RandomForest(no_trees=tree)\n",
    "    clf.fit(x_train,y_train)\n",
    "    predictions = clf.predict(x_test)\n",
    "    acc=clf.accuracy(y_test,predictions)\n",
    "    test_acc_no_trees.append(acc)\n",
    "    \n",
    "    \n",
    "test_acc_depth = []  \n",
    "\n",
    "for depth in range(0,200,2):\n",
    "    clf2 = RandomForest(max_depth=depth)\n",
    "    clf2.fit(x_train,y_train)\n",
    "    prediction = clf2.predict(x_test)\n",
    "    acc=clf2.accuracy(y_test,prediction)\n",
    "    test_acc_depth.append(acc)   \n",
    "    \n",
    "plt.plot([i*1 for i in range(0, 200,2)], test_acc_no_trees)\n",
    "plt.xlabel(\"Number of Trees\")\n",
    "plt.ylabel(\"Test accuracy\")\n",
    "plt.show()\n",
    "\n",
    "plt.plot([i*1 for i in range(0, 200,2)], test_acc_depth)\n",
    "plt.xlabel(\"Depth\")\n",
    "plt.ylabel(\"Test accuracy\")\n",
    "plt.show()\n"
   ]
  },
  {
   "cell_type": "markdown",
   "id": "11a31f18",
   "metadata": {},
   "source": [
    "## Cross Validation testing with the DecisionTree\n",
    "#### Folds Parameters can be changed to changed the numbers of folds to use in the cross-validation"
   ]
  },
  {
   "cell_type": "code",
   "execution_count": 98,
   "id": "554edc5b",
   "metadata": {},
   "outputs": [
    {
     "name": "stdout",
     "output_type": "stream",
     "text": [
      "Cross validation scores: [0.87529412 0.84941176 0.98352941 0.83294118 0.71058824]\n",
      "Mean accuracy: 0.8503529411764706\n"
     ]
    }
   ],
   "source": [
    "y = data2[\"fetal_health\"]\n",
    "x = data2.drop(\"fetal_health\", axis=1)\n",
    "y_labels = y.values\n",
    "x_features = x.values\n",
    "\n",
    "######structure of the class: DecisionTree(min_samples_split, max_depth) || if user wishes to test other parameters\n",
    "dt = DecisionTree(max_depth = 13)\n",
    "scores = cross_validation(dt, x_features, y_labels, folds = 5)\n",
    "print(\"Cross validation scores:\", scores)\n",
    "print(\"Mean accuracy:\", np.mean(scores))"
   ]
  },
  {
   "cell_type": "markdown",
   "id": "c3fb6634",
   "metadata": {},
   "source": [
    "## Cross Validation testing with the Random Forest\n",
    "#### Folds Parameters can be changed to changed the numbers of folds to use in the cross-validation"
   ]
  },
  {
   "cell_type": "code",
   "execution_count": 107,
   "id": "27364544",
   "metadata": {},
   "outputs": [
    {
     "name": "stdout",
     "output_type": "stream",
     "text": [
      "Cross validation scores: [0.62588235 0.74352941 0.99294118 0.88705882 0.77176471]\n",
      "Mean accuracy: 0.8042352941176472\n"
     ]
    }
   ],
   "source": [
    "y = data2[\"fetal_health\"]\n",
    "x = data2.drop(\"fetal_health\", axis=1)\n",
    "y_labels = y.values\n",
    "x_features = x.values\n",
    "\n",
    "######structure of the class: RandomForest(no_trees, max_depth, min_sample_split) || if user wishes to test other parameters\n",
    "rf = RandomForest(no_trees = 10)\n",
    "scores = cross_validation(rf, x_features, y_labels, folds = 5)\n",
    "print(\"Cross validation scores:\", scores)\n",
    "print(\"Mean accuracy:\", np.mean(scores))"
   ]
  },
  {
   "cell_type": "code",
   "execution_count": null,
   "id": "4bad72fd",
   "metadata": {},
   "outputs": [],
   "source": []
  }
 ],
 "metadata": {
  "kernelspec": {
   "display_name": "Python 3",
   "language": "python",
   "name": "python3"
  },
  "language_info": {
   "codemirror_mode": {
    "name": "ipython",
    "version": 3
   },
   "file_extension": ".py",
   "mimetype": "text/x-python",
   "name": "python",
   "nbconvert_exporter": "python",
   "pygments_lexer": "ipython3",
   "version": "3.8.8"
  }
 },
 "nbformat": 4,
 "nbformat_minor": 5
}
